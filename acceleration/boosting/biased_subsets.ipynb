{
 "cells": [
  {
   "cell_type": "code",
   "execution_count": 1,
   "id": "dfa821ff-6880-4c18-8d39-24ab06c492b7",
   "metadata": {},
   "outputs": [],
   "source": [
    "import os\n",
    "import fid_custom\n",
    "import random\n",
    "import shutil"
   ]
  },
  {
   "cell_type": "code",
   "execution_count": 2,
   "id": "e32f1933-5cfb-4e8a-bd3b-24615fbf5aae",
   "metadata": {
    "tags": []
   },
   "outputs": [],
   "source": [
    "# Total number of images in folderC\n",
    "N = 15000\n",
    "\n",
    "# Percentage of N images to come from folderA\n",
    "x_percent = 99\n",
    "\n",
    "folderA = 'celebA_class_dataset/Smiling_Young_Male'\n",
    "folderB = 'celebA_class_dataset/Not_Male'\n",
    "fC = f'biased_datasets/{folderA.split('/')[-1]}_{x_percent}_{folderB.split('/')[-1]}_{100-x_percent}_N{N}'\n",
    "folderC = f'{fC}/images/class'\n",
    "\n",
    "folder_features = 'celebA_data/celebA_features'\n",
    "new_features = f'{fC}/features'\n",
    "\n",
    "os.makedirs(folderC, exist_ok=True)\n",
    "os.makedirs(new_features, exist_ok=True)\n",
    "\n",
    "num_from_A = int((x_percent / 100) * N)\n",
    "num_from_B = N - num_from_A"
   ]
  },
  {
   "cell_type": "code",
   "execution_count": 3,
   "id": "06edc26f-9256-4be8-8548-e91861a8c6f5",
   "metadata": {
    "tags": []
   },
   "outputs": [
    {
     "name": "stdout",
     "output_type": "stream",
     "text": [
      "Successfully copied 15000 images to biased_datasets/Smiling_Young_Male_99_Not_Male_1_N15000/images/class\n"
     ]
    }
   ],
   "source": [
    "images_A = [img for img in os.listdir(folderA) if img.lower().endswith(('.png', '.jpg', '.jpeg', '.bmp', '.gif'))]\n",
    "images_B = [img for img in os.listdir(folderB) if img.lower().endswith(('.png', '.jpg', '.jpeg', '.bmp', '.gif'))]\n",
    "\n",
    "if len(images_A) < num_from_A or len(images_B) < num_from_B:\n",
    "    raise ValueError(\"Not enough images in folderA or folderB to satisfy the required number.\")\n",
    "\n",
    "# Randomly sample images from folderA and folderB\n",
    "selected_images_A = random.sample(images_A, num_from_A)\n",
    "selected_images_B = random.sample(images_B, num_from_B)\n",
    "\n",
    "# Copy the selected images to folderC\n",
    "for img in selected_images_A + selected_images_B:\n",
    "    if img in selected_images_A:\n",
    "        shutil.copy(os.path.join(folderA, img), os.path.join(folderC, img))\n",
    "    else:\n",
    "        shutil.copy(os.path.join(folderB, img), os.path.join(folderC, img))\n",
    "\n",
    "print(f\"Successfully copied {N} images to {folderC}\")"
   ]
  },
  {
   "cell_type": "code",
   "execution_count": 4,
   "id": "1782b806-801e-465c-8b8d-3d41646cbc3f",
   "metadata": {},
   "outputs": [],
   "source": [
    "for filename in os.listdir(folderC):\n",
    "    if filename.endswith(\".jpg\") or filename.endswith(\".png\"):\n",
    "        base_name = os.path.splitext(filename)[0]\n",
    "        npy_file = base_name + \".npy\"\n",
    "        \n",
    "        # Check if the .npy file exists in folder_features\n",
    "        npy_file_path = os.path.join(folder_features, npy_file)\n",
    "        if os.path.exists(npy_file_path):\n",
    "            new_npy_path = os.path.join(new_features, npy_file)\n",
    "            shutil.copy(npy_file_path, new_npy_path)\n",
    "        else:\n",
    "            print(f\"{npy_file} not found in {folder_features}\")"
   ]
  },
  {
   "cell_type": "code",
   "execution_count": 5,
   "id": "6325f982-fdb9-4d80-b240-b71994ec58b6",
   "metadata": {
    "tags": []
   },
   "outputs": [],
   "source": [
    "biased_stats = fid_custom.features_to_stat(new_features)\n",
    "fid_custom.save_stats(biased_stats, f'{fC}/fid_stats.npz')"
   ]
  },
  {
   "cell_type": "code",
   "execution_count": 6,
   "id": "46717f47-0468-41ed-accd-dbde58851457",
   "metadata": {},
   "outputs": [],
   "source": [
    "real_stats = fid_custom.load_stats('celebA_data/celebA_fid_stats.npz')\n",
    "biased_stats = fid_custom.load_stats(f'{fC}/fid_stats.npz')"
   ]
  },
  {
   "cell_type": "code",
   "execution_count": 7,
   "id": "8d9aa98e-2f98-46fc-8406-87ae3b2def8a",
   "metadata": {
    "tags": []
   },
   "outputs": [
    {
     "data": {
      "text/plain": [
       "np.float64(34.47328366822464)"
      ]
     },
     "execution_count": 7,
     "metadata": {},
     "output_type": "execute_result"
    }
   ],
   "source": [
    "fid_custom.calculate_fid(*list(real_stats.values())[:2],*list(biased_stats.values())[:2])"
   ]
  },
  {
   "cell_type": "code",
   "execution_count": 8,
   "id": "3d9ae525-5300-459c-8c53-71386e0d5cdd",
   "metadata": {
    "tags": []
   },
   "outputs": [
    {
     "data": {
      "text/plain": [
       "{'mean': array([0.31840017, 0.28387764, 0.17477879, ..., 0.31609127, 0.2679897 ,\n",
       "        0.36640477], shape=(2048,), dtype=float32),\n",
       " 'covariance': array([[ 0.03124174,  0.00045412,  0.00449469, ..., -0.00314412,\n",
       "         -0.00232486, -0.00071472],\n",
       "        [ 0.00045412,  0.02289081,  0.00398362, ...,  0.00317206,\n",
       "          0.00469967,  0.00027849],\n",
       "        [ 0.00449469,  0.00398362,  0.02128661, ...,  0.00539002,\n",
       "          0.01254269,  0.0015931 ],\n",
       "        ...,\n",
       "        [-0.00314412,  0.00317206,  0.00539002, ...,  0.05696185,\n",
       "          0.01446354,  0.00683247],\n",
       "        [-0.00232486,  0.00469967,  0.01254269, ...,  0.01446354,\n",
       "          0.06541866,  0.00803033],\n",
       "        [-0.00071472,  0.00027849,  0.0015931 , ...,  0.00683247,\n",
       "          0.00803033,  0.0503044 ]], shape=(2048, 2048)),\n",
       " 'num_samples': 202599}"
      ]
     },
     "execution_count": 8,
     "metadata": {},
     "output_type": "execute_result"
    }
   ],
   "source": [
    "real_stats"
   ]
  },
  {
   "cell_type": "code",
   "execution_count": 9,
   "id": "df6a6da2-bdad-4441-a9d4-b4292ca0eb28",
   "metadata": {
    "tags": []
   },
   "outputs": [
    {
     "data": {
      "text/plain": [
       "{'mean': array([0.32623982, 0.25882196, 0.1315849 , ..., 0.22621965, 0.17120321,\n",
       "        0.36180928], shape=(2048,), dtype=float32),\n",
       " 'covariance': array([[ 0.0291286 ,  0.00055065,  0.0033761 , ..., -0.00128957,\n",
       "         -0.00085642,  0.00049317],\n",
       "        [ 0.00055065,  0.01987235,  0.00166456, ...,  0.00200797,\n",
       "          0.00289645, -0.00176687],\n",
       "        [ 0.0033761 ,  0.00166456,  0.01146806, ...,  0.0040111 ,\n",
       "          0.00407135,  0.00189668],\n",
       "        ...,\n",
       "        [-0.00128957,  0.00200797,  0.0040111 , ...,  0.0412734 ,\n",
       "          0.0069742 ,  0.00785711],\n",
       "        [-0.00085642,  0.00289645,  0.00407135, ...,  0.0069742 ,\n",
       "          0.03001137,  0.00332698],\n",
       "        [ 0.00049317, -0.00176687,  0.00189668, ...,  0.00785711,\n",
       "          0.00332698,  0.05062519]], shape=(2048, 2048)),\n",
       " 'num_samples': 15000}"
      ]
     },
     "execution_count": 9,
     "metadata": {},
     "output_type": "execute_result"
    }
   ],
   "source": [
    "biased_stats"
   ]
  },
  {
   "cell_type": "code",
   "execution_count": null,
   "id": "d2874319-2d3a-4554-b1ce-a85d4d58ff8c",
   "metadata": {},
   "outputs": [],
   "source": []
  }
 ],
 "metadata": {
  "kernelspec": {
   "display_name": "SRC_AI",
   "language": "python",
   "name": "src"
  },
  "language_info": {
   "codemirror_mode": {
    "name": "ipython",
    "version": 3
   },
   "file_extension": ".py",
   "mimetype": "text/x-python",
   "name": "python",
   "nbconvert_exporter": "python",
   "pygments_lexer": "ipython3",
   "version": "3.12.8"
  }
 },
 "nbformat": 4,
 "nbformat_minor": 5
}
