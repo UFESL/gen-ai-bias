{
 "cells": [
  {
   "cell_type": "code",
   "execution_count": 1,
   "id": "4b6d3123-bde5-4920-bb7d-011a35edde88",
   "metadata": {
    "tags": []
   },
   "outputs": [],
   "source": [
    "import os\n",
    "import pandas as pd\n",
    "dataset_dir = '/blue/prabhat/shared/datasets/celeba'"
   ]
  },
  {
   "cell_type": "code",
   "execution_count": 3,
   "id": "8a4bfcfb-777b-49a1-b38e-0d112eef0e3b",
   "metadata": {
    "tags": []
   },
   "outputs": [
    {
     "name": "stdout",
     "output_type": "stream",
     "text": [
      "Prepared dataset with images that match attributes in ['Smiling', 'Young'] and do not have attributes in [].\n",
      "Number of images copied: 74152\n"
     ]
    }
   ],
   "source": [
    "def prepare_custom_filtered_dataset(dataset_dir, target_dir, attributes_list1, attributes_list2):\n",
    "    \n",
    "    attr_file = os.path.join(dataset_dir, 'list_attr_celeba.csv')\n",
    "    data_info = pd.read_csv(attr_file)\n",
    "\n",
    "    condition = pd.Series([True] * len(data_info))\n",
    "\n",
    "    # Filter for attributes in attributes_list1 (where value must be 1)\n",
    "    for attr in attributes_list1:\n",
    "        condition &= (data_info[attr] == 1)\n",
    "\n",
    "    # Filter for attributes in attributes_list2 (where value must be -1)\n",
    "    for attr in attributes_list2:\n",
    "        condition &= (data_info[attr] == -1)\n",
    "\n",
    "    matching_images = data_info[condition]['image_id']\n",
    "\n",
    "    class_folder_name = \"_\".join(attributes_list1 + ['Not_' + attr for attr in attributes_list2])  # Folder name combining the attributes\n",
    "    target_class_folder = os.path.join(target_dir, class_folder_name)\n",
    "\n",
    "    if not os.path.exists(target_class_folder):\n",
    "        os.makedirs(target_class_folder)\n",
    "\n",
    "    for image_name in matching_images:\n",
    "        source_image_path = os.path.join(dataset_dir, 'img_align_celeba', image_name)\n",
    "        target_image_path = os.path.join(target_class_folder, image_name)\n",
    "\n",
    "        if os.path.exists(source_image_path):\n",
    "            with open(source_image_path, 'rb') as src_file:\n",
    "                with open(target_image_path, 'wb') as tgt_file:\n",
    "                    tgt_file.write(src_file.read())\n",
    "\n",
    "    print(f\"Prepared dataset with images that match attributes in {attributes_list1} and do not have attributes in {attributes_list2}.\")\n",
    "    print(f\"Number of images copied: {len(matching_images)}\")\n",
    "\n",
    "# Define the target directory where the filtered dataset will be saved\n",
    "target_dir = os.path.join(os.getcwd(), 'celebA_class_dataset')\n",
    "\n",
    "# List of attributes to filter by, with one list for attributes=1 and another for attributes=-1\n",
    "attributes_list1 = ['Smiling','Young']   # Attributes that should be 1 (present)\n",
    "attributes_list2 = []      # Attributes that should be -1 (absent)\n",
    "\n",
    "prepare_custom_filtered_dataset(dataset_dir, target_dir, attributes_list1, attributes_list2)"
   ]
  },
  {
   "cell_type": "code",
   "execution_count": 5,
   "id": "16aa1155-52b1-4966-b927-17ee983fe923",
   "metadata": {
    "tags": []
   },
   "outputs": [
    {
     "name": "stdout",
     "output_type": "stream",
     "text": [
      "Number of images that match the attributes ['Smiling', 'Young', 'Male', 'Bald'] (1) and [] (-1): 520\n"
     ]
    }
   ],
   "source": [
    "def count_images_with_all_attributes(dataset_dir, attributes_list1, attributes_list2):\n",
    "\n",
    "    attr_file = os.path.join(dataset_dir, 'list_attr_celeba.csv')\n",
    "    data_info = pd.read_csv(attr_file)\n",
    "    condition = pd.Series([True] * len(data_info))\n",
    "\n",
    "    for attr in attributes_list1:\n",
    "        condition &= (data_info[attr] == 1)\n",
    "\n",
    "    for attr in attributes_list2:\n",
    "        condition &= (data_info[attr] == -1)\n",
    "\n",
    "    matching_images_count = condition.sum()\n",
    "\n",
    "    print(f\"Number of images that match the attributes {attributes_list1} (1) and {attributes_list2} (-1): {matching_images_count}\")\n",
    "\n",
    "# List of attributes to filter by, with one list for attributes=1 and another for attributes=-1\n",
    "attributes_list1 = ['Smiling','Young','Male','Bald']   # Attributes that should be 1 (present)\n",
    "attributes_list2 = []      # Attributes that should be -1 (absent)\n",
    "\n",
    "# Call the function to count images\n",
    "count_images_with_all_attributes(dataset_dir, attributes_list1, attributes_list2)"
   ]
  },
  {
   "cell_type": "code",
   "execution_count": 4,
   "id": "8520786c-68e3-449d-84cf-29a81bd759b7",
   "metadata": {
    "tags": []
   },
   "outputs": [
    {
     "name": "stdout",
     "output_type": "stream",
     "text": [
      "Number of items: 2\n"
     ]
    }
   ],
   "source": [
    "def count_items_in_folder(folder):\n",
    "    return len(os.listdir(folder)) if os.path.isdir(folder) else 0\n",
    "\n",
    "subfolder = os.getcwd() + \"/celebA_class_dataset/Smiling_Young_Male_Bald_No_Beard_Mustache\"\n",
    "print(\"Number of items:\", count_items_in_folder(subfolder))"
   ]
  },
  {
   "cell_type": "code",
   "execution_count": 9,
   "id": "b1e230a6-f752-469b-aa22-bc4f07c9e567",
   "metadata": {
    "tags": []
   },
   "outputs": [
    {
     "name": "stdout",
     "output_type": "stream",
     "text": [
      "Prepared dataset with images that match attributes in [] and do not have attributes in ['Male'].\n",
      "Number of images copied: 118165\n",
      "Number of items: 118165\n",
      "Number of images that match the attributes [] (1) and ['Male'] (-1): 118165\n"
     ]
    }
   ],
   "source": [
    "attributes_list1 = []   # Attributes that should be 1 (present)\n",
    "attributes_list2 = ['Male']      # Attributes that should be -1 (absent)\n",
    "\n",
    "class_folder_name = \"_\".join(attributes_list1 + ['Not_' + attr for attr in attributes_list2])  # Folder name combining the attributes\n",
    "target_class_folder = os.path.join(target_dir, class_folder_name)\n",
    "\n",
    "prepare_custom_filtered_dataset(dataset_dir, target_dir, attributes_list1, attributes_list2)\n",
    "print(\"Number of items:\", count_items_in_folder(target_class_folder))\n",
    "count_images_with_all_attributes(dataset_dir, attributes_list1, attributes_list2)"
   ]
  },
  {
   "cell_type": "code",
   "execution_count": 5,
   "id": "7ce2c81c-cd59-4ead-b58e-9d99c4e5552e",
   "metadata": {},
   "outputs": [
    {
     "name": "stdout",
     "output_type": "stream",
     "text": [
      "Number of items: 80000\n"
     ]
    }
   ],
   "source": [
    "print(\"Number of items:\", count_items_in_folder(os.getcwd() + \"/celebA_class_dataset/Male_60_Not_Male_40\"))"
   ]
  },
  {
   "cell_type": "code",
   "execution_count": null,
   "id": "83e9bac6-86ea-4e34-abb7-de479300599c",
   "metadata": {},
   "outputs": [],
   "source": []
  }
 ],
 "metadata": {
  "kernelspec": {
   "display_name": "SRC_AI",
   "language": "python",
   "name": "src"
  },
  "language_info": {
   "codemirror_mode": {
    "name": "ipython",
    "version": 3
   },
   "file_extension": ".py",
   "mimetype": "text/x-python",
   "name": "python",
   "nbconvert_exporter": "python",
   "pygments_lexer": "ipython3",
   "version": "3.12.8"
  }
 },
 "nbformat": 4,
 "nbformat_minor": 5
}
