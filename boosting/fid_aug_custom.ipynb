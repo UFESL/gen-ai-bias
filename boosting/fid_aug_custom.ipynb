{
 "cells": [
  {
   "cell_type": "code",
   "execution_count": 2,
   "id": "e6c8a81d-6ce0-4af1-920a-93406f947f62",
   "metadata": {
    "tags": []
   },
   "outputs": [],
   "source": [
    "import numpy as np\n",
    "import matplotlib.pyplot as plt\n",
    "import fid_custom\n",
    "import os"
   ]
  },
  {
   "cell_type": "code",
   "execution_count": 3,
   "id": "02021dea-3e47-4117-82a6-b9e7f0594118",
   "metadata": {
    "tags": []
   },
   "outputs": [],
   "source": [
    "celebA_data = 'celebA_data/celebA_fid_stats.npz'\n",
    "biased_data = 'biased_datasets/Smiling_Young_Male_99_Not_Male_1_N15000/fid_stats.npz'\n",
    "\n",
    "real_stats = fid_custom.load_stats(celebA_data)\n",
    "biased_stats = fid_custom.load_stats(biased_data)\n",
    "\n",
    "mu_r, sigma_r, Nr = list(real_stats.values())\n",
    "mu_g, sigma_g, Ng = list(biased_stats.values())\n",
    "\n",
    "reference = fid_custom.calculate_fid(mu_r, sigma_r, mu_g, sigma_g)"
   ]
  },
  {
   "cell_type": "code",
   "execution_count": 4,
   "id": "cc9ea3da-02d3-40a4-8824-510cda916a2b",
   "metadata": {
    "tags": []
   },
   "outputs": [
    {
     "data": {
      "text/plain": [
       "np.float64(34.47328366822464)"
      ]
     },
     "execution_count": 4,
     "metadata": {},
     "output_type": "execute_result"
    }
   ],
   "source": [
    "reference"
   ]
  },
  {
   "cell_type": "code",
   "execution_count": 36,
   "id": "f098f9db-f543-4a00-bf0d-ac1ced66b707",
   "metadata": {
    "tags": []
   },
   "outputs": [],
   "source": [
    "folder_path = 'GANs/features/gan_fid_v4_exact01_10000'\n",
    "\n",
    "data_list = []\n",
    "for file in os.listdir(folder_path):\n",
    "    if file.endswith(\".npy\"):\n",
    "        file_path = os.path.join(folder_path, file)\n",
    "        data_list.append(np.load(file_path))"
   ]
  },
  {
   "cell_type": "code",
   "execution_count": 37,
   "id": "4cbb19c3-848f-427c-b542-4a26412706d1",
   "metadata": {
    "tags": []
   },
   "outputs": [
    {
     "data": {
      "text/plain": [
       "(5000, 2048)"
      ]
     },
     "execution_count": 37,
     "metadata": {},
     "output_type": "execute_result"
    }
   ],
   "source": [
    "X = np.array(data_list)\n",
    "X.shape"
   ]
  },
  {
   "cell_type": "code",
   "execution_count": 38,
   "id": "376cb07b-be14-4dde-a79a-fef17c0f6c98",
   "metadata": {
    "tags": []
   },
   "outputs": [],
   "source": [
    "def mu_sigma_update(mu, sigma, N, f):\n",
    "    diff = f - mu\n",
    "    mu_new = mu + diff/(N + 1)\n",
    "    sigma_new = ((N - 1) * sigma) / N + np.outer(diff, diff) / (N + 1)\n",
    "    \n",
    "    return mu_new, sigma_new, N+1"
   ]
  },
  {
   "cell_type": "code",
   "execution_count": 39,
   "id": "bc9479b6-196c-4388-8daa-f3f6a6e59c78",
   "metadata": {
    "tags": []
   },
   "outputs": [],
   "source": [
    "def mu_sigma_update_batch(mu_a, sigma_a, Na, mu_b, sigma_b, Nb):\n",
    "    mu_new = (Na*mu_a + Nb*mu_b)/ (Na + Nb)\n",
    "    sigma_new = ((Na-1)*sigma_a + (Nb-1)*sigma_b + Na*Nb*np.outer(mu_a-mu_b, mu_a-mu_b)/(Na+Nb))/(Na+Nb-1)\n",
    "    return mu_new, sigma_new, Na+Nb"
   ]
  },
  {
   "cell_type": "code",
   "execution_count": 40,
   "id": "371ec4e4-58a6-4f9c-9227-76088da59174",
   "metadata": {
    "tags": []
   },
   "outputs": [],
   "source": [
    "mu, sigma, N = mu_g, sigma_g, Ng\n",
    "fid_list = [reference]\n",
    "b = 10"
   ]
  },
  {
   "cell_type": "code",
   "execution_count": 41,
   "id": "ebad8672-f748-42d7-b560-573ca61c5e1e",
   "metadata": {
    "tags": []
   },
   "outputs": [
    {
     "name": "stdout",
     "output_type": "stream",
     "text": [
      "Processing 4990/5000, curr_num = 19990\r"
     ]
    }
   ],
   "source": [
    "for i in range(0,5000, b):\n",
    "    print(f\"Processing {i}/5000, curr_num = {N}\", end=\"\\r\", flush=True)\n",
    "    x_batch = X[i:i+b]\n",
    "    mu_b = np.mean(x_batch, axis=0)\n",
    "    sigma_b = np.cov(x_batch, rowvar=False)\n",
    "    \n",
    "    mu, sigma, N = mu_sigma_update_batch(mu, sigma, N, mu_b, sigma_b, b)\n",
    "    fid_list.append(fid_custom.calculate_fid(mu_r, sigma_r, mu, sigma))\n",
    "    "
   ]
  },
  {
   "cell_type": "code",
   "execution_count": 42,
   "id": "d909acfd-01fb-423c-8af2-fdf1d412c1d0",
   "metadata": {},
   "outputs": [],
   "source": [
    "np.save(\"fid_list_data/data_gan_fid_lossfv4_exact01.npy\", fid_list)"
   ]
  }
 ],
 "metadata": {
  "kernelspec": {
   "display_name": "SRC_AI",
   "language": "python",
   "name": "src"
  },
  "language_info": {
   "codemirror_mode": {
    "name": "ipython",
    "version": 3
   },
   "file_extension": ".py",
   "mimetype": "text/x-python",
   "name": "python",
   "nbconvert_exporter": "python",
   "pygments_lexer": "ipython3",
   "version": "3.12.8"
  }
 },
 "nbformat": 4,
 "nbformat_minor": 5
}
